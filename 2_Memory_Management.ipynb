{
  "nbformat": 4,
  "nbformat_minor": 0,
  "metadata": {
    "kernelspec": {
      "name": "python3",
      "display_name": "Python 3"
    },
    "language_info": {
      "codemirror_mode": {
        "name": "ipython",
        "version": 3
      },
      "file_extension": ".py",
      "mimetype": "text/x-python",
      "name": "python",
      "nbconvert_exporter": "python",
      "pygments_lexer": "ipython3",
      "version": "3.7.1"
    },
    "colab": {
      "name": "2 - Memory Management.ipynb",
      "provenance": [],
      "collapsed_sections": [],
      "include_colab_link": true
    },
    "accelerator": "GPU"
  },
  "cells": [
    {
      "cell_type": "markdown",
      "metadata": {
        "id": "view-in-github",
        "colab_type": "text"
      },
      "source": [
        "<a href=\"https://colab.research.google.com/github/geoffwoollard/gpu-speedups-mbptechtalk2020/blob/master/2_Memory_Management.ipynb\" target=\"_parent\"><img src=\"https://colab.research.google.com/assets/colab-badge.svg\" alt=\"Open In Colab\"/></a>"
      ]
    },
    {
      "cell_type": "markdown",
      "metadata": {
        "id": "jWwQTt6BioUq",
        "colab_type": "text"
      },
      "source": [
        "# MBP Tech Talk 2020 :: Memory Management\n",
        "\n",
        "## Managing GPU Memory\n",
        "\n",
        "During the benchmarking in the previous notebook, we used NumPy arrays on the CPU as inputs and outputs.  If you want to reduce the impact of host-to-device/device-to-host bandwidth, it is best to copy data to the GPU explicitly and leave it there to amortize the cost over multiple function calls.  In addition, allocating device memory can be relatively slow, so allocating GPU arrays once and refilling them with data from the host can also be a performance improvement.\n",
        "\n",
        "Let's create our example addition ufunc again:"
      ]
    },
    {
      "cell_type": "code",
      "metadata": {
        "id": "Fn3jaQBZioUu",
        "colab_type": "code",
        "colab": {}
      },
      "source": [
        "from numba import vectorize\n",
        "import numpy as np\n",
        "\n",
        "@vectorize(['float32(float32, float32)'], target='cuda')\n",
        "def add_ufunc(x, y):\n",
        "    return x + y"
      ],
      "execution_count": 0,
      "outputs": []
    },
    {
      "cell_type": "code",
      "metadata": {
        "id": "ewKn0K44ioUy",
        "colab_type": "code",
        "colab": {}
      },
      "source": [
        "n = 100000\n",
        "x = np.arange(n).astype(np.float32)\n",
        "y = 2 * x"
      ],
      "execution_count": 0,
      "outputs": []
    },
    {
      "cell_type": "code",
      "metadata": {
        "id": "ruoYI6vZioU1",
        "colab_type": "code",
        "colab": {}
      },
      "source": [
        "%timeit add_ufunc(x, y)  # Baseline performance with host arrays"
      ],
      "execution_count": 0,
      "outputs": []
    },
    {
      "cell_type": "markdown",
      "metadata": {
        "id": "CtcEpICkioU5",
        "colab_type": "text"
      },
      "source": [
        "There are two ways that we can create GPU arrays to pass to Numba.  Numba defines its own GPU array object (not as fully-featured as CuPy, but may be useful if you don't need the rest of CuPy for your application).  The `numba.cuda` module includes a function that will copy host data to the GPU and return a CUDA device array:"
      ]
    },
    {
      "cell_type": "code",
      "metadata": {
        "id": "2-RHjwdEioU6",
        "colab_type": "code",
        "colab": {}
      },
      "source": [
        "from numba import cuda\n",
        "\n",
        "x_device = cuda.to_device(x)\n",
        "y_device = cuda.to_device(y)\n",
        "\n",
        "print(x_device)\n",
        "print(x_device.shape)\n",
        "print(x_device.dtype)"
      ],
      "execution_count": 0,
      "outputs": []
    },
    {
      "cell_type": "markdown",
      "metadata": {
        "id": "_DBBMYnYioU9",
        "colab_type": "text"
      },
      "source": [
        "Device arrays can be passed to Numba's compiled CUDA functions just like NumPy arrays, but without the copy overhead:"
      ]
    },
    {
      "cell_type": "code",
      "metadata": {
        "id": "G0TgfG_XioU-",
        "colab_type": "code",
        "colab": {}
      },
      "source": [
        "%timeit add_ufunc(x_device, y_device)"
      ],
      "execution_count": 0,
      "outputs": []
    },
    {
      "cell_type": "markdown",
      "metadata": {
        "id": "FxZ8YkdQioVC",
        "colab_type": "text"
      },
      "source": [
        "That's a big performance improvement already, but we are still allocating a device array for the output of the ufunc and copying it back to the host.  We can create the output buffer with the `numba.cuda.device_array()` function:"
      ]
    },
    {
      "cell_type": "code",
      "metadata": {
        "id": "c0NhzOIBioVD",
        "colab_type": "code",
        "colab": {}
      },
      "source": [
        "out_device = cuda.device_array(shape=(n,), dtype=np.float32)  # does not initialize the contents, like np.empty()"
      ],
      "execution_count": 0,
      "outputs": []
    },
    {
      "cell_type": "markdown",
      "metadata": {
        "collapsed": true,
        "id": "Paa8fJihioVG",
        "colab_type": "text"
      },
      "source": [
        "And then we can use a special `out` keyword argument to the ufunc to specify the output buffer:"
      ]
    },
    {
      "cell_type": "code",
      "metadata": {
        "id": "Ad5S9EFnioVK",
        "colab_type": "code",
        "colab": {}
      },
      "source": [
        "%timeit add_ufunc(x_device, y_device, out=out_device)"
      ],
      "execution_count": 0,
      "outputs": []
    },
    {
      "cell_type": "markdown",
      "metadata": {
        "id": "z51-ROi2ioVN",
        "colab_type": "text"
      },
      "source": [
        "Now that we have removed the device allocation and copy steps, the computation runs *much* faster than before.  When we want to bring the device array back to the host memory, we can use the `copy_to_host()` method:"
      ]
    },
    {
      "cell_type": "code",
      "metadata": {
        "id": "mTFxHiamioVP",
        "colab_type": "code",
        "colab": {}
      },
      "source": [
        "out_host = out_device.copy_to_host()\n",
        "print(out_host[:10])"
      ],
      "execution_count": 0,
      "outputs": []
    },
    {
      "cell_type": "markdown",
      "metadata": {
        "id": "vlHugNm4ioVS",
        "colab_type": "text"
      },
      "source": [
        "## CuPy Interoperability\n",
        "\n",
        "Recent versions of CuPy (>= 4.5) support (Numba's generic CUDA array interface)[https://numba.pydata.org/numba-doc/latest/cuda/cuda_array_interface.html].  We can see this on a CuPy array, by looking for the `__cuda_array_interface__` attribute:"
      ]
    },
    {
      "cell_type": "code",
      "metadata": {
        "id": "09pBQs6_ioVT",
        "colab_type": "code",
        "colab": {}
      },
      "source": [
        "import cupy as cp\n",
        "\n",
        "x_cp = cp.asarray(x)\n",
        "y_cp = cp.asarray(y)\n",
        "out_cp = cp.empty_like(y_cp)\n",
        "\n",
        "x_cp.__cuda_array_interface__"
      ],
      "execution_count": 0,
      "outputs": []
    },
    {
      "cell_type": "markdown",
      "metadata": {
        "id": "1NZcWXIFioVW",
        "colab_type": "text"
      },
      "source": [
        "This describes the CuPy array in a portable way so that other packages, like Numba, can use it:"
      ]
    },
    {
      "cell_type": "code",
      "metadata": {
        "id": "TNK2FBXEioVX",
        "colab_type": "code",
        "colab": {}
      },
      "source": [
        "add_ufunc(x_cp, y_cp, out=out_cp)\n",
        "\n",
        "print(out_cp[:10])"
      ],
      "execution_count": 0,
      "outputs": []
    },
    {
      "cell_type": "markdown",
      "metadata": {
        "id": "X64i8B1DioVZ",
        "colab_type": "text"
      },
      "source": [
        "And it runs the same speed as using the Numba device allocation:"
      ]
    },
    {
      "cell_type": "code",
      "metadata": {
        "id": "tHTWB_CgioVa",
        "colab_type": "code",
        "colab": {}
      },
      "source": [
        "%timeit add_ufunc(x_cp, y_cp, out=out_cp)"
      ],
      "execution_count": 0,
      "outputs": []
    },
    {
      "cell_type": "markdown",
      "metadata": {
        "id": "sIOb6mTTioVd",
        "colab_type": "text"
      },
      "source": [
        "Note that Numba won't automatically create a CuPy array for the ufunc output, so if you want to ensure the ufunc result is saved in a CuPy array, be sure to pass an explicit `out` argument to the ufunc, as shown above."
      ]
    }
  ]
}